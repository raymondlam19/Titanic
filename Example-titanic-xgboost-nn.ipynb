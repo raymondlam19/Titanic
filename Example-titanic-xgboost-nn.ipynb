{
 "cells": [
  {
   "cell_type": "code",
   "execution_count": 1,
   "metadata": {
    "_cell_guid": "b1076dfc-b9ad-4769-8c92-a6c4dae69d19",
    "_uuid": "8f2839f25d086af736a60e9eeb907d3b93b6e0e5"
   },
   "outputs": [
    {
     "name": "stderr",
     "output_type": "stream",
     "text": [
      "/opt/conda/lib/python3.6/site-packages/tensorflow/python/framework/dtypes.py:516: FutureWarning: Passing (type, 1) or '1type' as a synonym of type is deprecated; in a future version of numpy, it will be understood as (type, (1,)) / '(1,)type'.\n",
      "  _np_qint8 = np.dtype([(\"qint8\", np.int8, 1)])\n",
      "/opt/conda/lib/python3.6/site-packages/tensorflow/python/framework/dtypes.py:517: FutureWarning: Passing (type, 1) or '1type' as a synonym of type is deprecated; in a future version of numpy, it will be understood as (type, (1,)) / '(1,)type'.\n",
      "  _np_quint8 = np.dtype([(\"quint8\", np.uint8, 1)])\n",
      "/opt/conda/lib/python3.6/site-packages/tensorflow/python/framework/dtypes.py:518: FutureWarning: Passing (type, 1) or '1type' as a synonym of type is deprecated; in a future version of numpy, it will be understood as (type, (1,)) / '(1,)type'.\n",
      "  _np_qint16 = np.dtype([(\"qint16\", np.int16, 1)])\n",
      "/opt/conda/lib/python3.6/site-packages/tensorflow/python/framework/dtypes.py:519: FutureWarning: Passing (type, 1) or '1type' as a synonym of type is deprecated; in a future version of numpy, it will be understood as (type, (1,)) / '(1,)type'.\n",
      "  _np_quint16 = np.dtype([(\"quint16\", np.uint16, 1)])\n",
      "/opt/conda/lib/python3.6/site-packages/tensorflow/python/framework/dtypes.py:520: FutureWarning: Passing (type, 1) or '1type' as a synonym of type is deprecated; in a future version of numpy, it will be understood as (type, (1,)) / '(1,)type'.\n",
      "  _np_qint32 = np.dtype([(\"qint32\", np.int32, 1)])\n",
      "/opt/conda/lib/python3.6/site-packages/tensorflow/python/framework/dtypes.py:525: FutureWarning: Passing (type, 1) or '1type' as a synonym of type is deprecated; in a future version of numpy, it will be understood as (type, (1,)) / '(1,)type'.\n",
      "  np_resource = np.dtype([(\"resource\", np.ubyte, 1)])\n",
      "/opt/conda/lib/python3.6/site-packages/tensorboard/compat/tensorflow_stub/dtypes.py:541: FutureWarning: Passing (type, 1) or '1type' as a synonym of type is deprecated; in a future version of numpy, it will be understood as (type, (1,)) / '(1,)type'.\n",
      "  _np_qint8 = np.dtype([(\"qint8\", np.int8, 1)])\n",
      "/opt/conda/lib/python3.6/site-packages/tensorboard/compat/tensorflow_stub/dtypes.py:542: FutureWarning: Passing (type, 1) or '1type' as a synonym of type is deprecated; in a future version of numpy, it will be understood as (type, (1,)) / '(1,)type'.\n",
      "  _np_quint8 = np.dtype([(\"quint8\", np.uint8, 1)])\n",
      "/opt/conda/lib/python3.6/site-packages/tensorboard/compat/tensorflow_stub/dtypes.py:543: FutureWarning: Passing (type, 1) or '1type' as a synonym of type is deprecated; in a future version of numpy, it will be understood as (type, (1,)) / '(1,)type'.\n",
      "  _np_qint16 = np.dtype([(\"qint16\", np.int16, 1)])\n",
      "/opt/conda/lib/python3.6/site-packages/tensorboard/compat/tensorflow_stub/dtypes.py:544: FutureWarning: Passing (type, 1) or '1type' as a synonym of type is deprecated; in a future version of numpy, it will be understood as (type, (1,)) / '(1,)type'.\n",
      "  _np_quint16 = np.dtype([(\"quint16\", np.uint16, 1)])\n",
      "/opt/conda/lib/python3.6/site-packages/tensorboard/compat/tensorflow_stub/dtypes.py:545: FutureWarning: Passing (type, 1) or '1type' as a synonym of type is deprecated; in a future version of numpy, it will be understood as (type, (1,)) / '(1,)type'.\n",
      "  _np_qint32 = np.dtype([(\"qint32\", np.int32, 1)])\n",
      "/opt/conda/lib/python3.6/site-packages/tensorboard/compat/tensorflow_stub/dtypes.py:550: FutureWarning: Passing (type, 1) or '1type' as a synonym of type is deprecated; in a future version of numpy, it will be understood as (type, (1,)) / '(1,)type'.\n",
      "  np_resource = np.dtype([(\"resource\", np.ubyte, 1)])\n",
      "Using TensorFlow backend.\n"
     ]
    },
    {
     "name": "stdout",
     "output_type": "stream",
     "text": [
      "['train.csv', 'gender_submission.csv', 'test.csv']\n"
     ]
    }
   ],
   "source": [
    "# This Python 3 environment comes with many helpful analytics libraries installed\n",
    "# It is defined by the kaggle/python docker image: https://github.com/kaggle/docker-python\n",
    "# For example, here's several helpful packages to load in \n",
    "\n",
    "import numpy as np # linear algebra\n",
    "import tensorflow as tf\n",
    "import random as rn\n",
    "import os\n",
    "os.environ['PYTHONHASHSEED'] = '0'\n",
    "np.random.seed(1)\n",
    "rn.seed(1)\n",
    "session_conf = tf.ConfigProto(intra_op_parallelism_threads=1, inter_op_parallelism_threads=1)\n",
    "from keras import backend as K\n",
    "tf.set_random_seed(1)\n",
    "sess = tf.Session(graph=tf.get_default_graph(), config=session_conf)\n",
    "K.set_session(sess)\n",
    "import pandas as pd # data processing, CSV file I/O (e.g. pd.read_csv)\n",
    "import matplotlib.pyplot as plt\n",
    "import seaborn as sns\n",
    "\n",
    "from xgboost import XGBClassifier\n",
    "\n",
    "from keras.utils import to_categorical\n",
    "from keras.models import Sequential\n",
    "from keras.layers import Dense, Activation, Dropout\n",
    "from keras.optimizers import SGD, Adam\n",
    "from sklearn.preprocessing import StandardScaler\n",
    "# Input data files are available in the \"../input/\" directory.\n",
    "# For example, running this (by clicking run or pressing Shift+Enter) will list the files in the input directory\n",
    "\n",
    "import os, re\n",
    "files = os.listdir('../input/titanic')\n",
    "print(files)\n",
    "\n",
    "# Any results you write to the current directory are saved as output."
   ]
  },
  {
   "cell_type": "code",
   "execution_count": 2,
   "metadata": {
    "_cell_guid": "79c7e3d0-c299-4dcb-8224-4455121ee9b0",
    "_uuid": "d629ff2d2480ee46fbb7e2d37f6b5fab8052498a"
   },
   "outputs": [],
   "source": [
    "df_train = pd.read_csv('../input/titanic/'+files[0], engine='python')\n",
    "df_test = pd.read_csv('../input/titanic/'+files[2], engine='python')\n",
    "df = df_train.copy()"
   ]
  },
  {
   "cell_type": "code",
   "execution_count": 3,
   "metadata": {},
   "outputs": [],
   "source": [
    "df['Title'] = df.Name.apply(lambda x: re.search(' ([A-Z][a-z]+)\\.', x).group(1))\n",
    "df_test['Title'] = df_test.Name.apply(lambda x: re.search(' ([A-Z][a-z]+)\\.', x).group(1))"
   ]
  },
  {
   "cell_type": "code",
   "execution_count": 4,
   "metadata": {},
   "outputs": [],
   "source": [
    "Title_Dictionary = {\n",
    "        \"Capt\":       \"Other\",\n",
    "        \"Col\":        \"Other\",\n",
    "        \"Major\":      \"Other\",\n",
    "        \"Dr\":         \"Mr\",\n",
    "        \"Rev\":        \"Other\",\n",
    "        \"Jonkheer\":   \"Other\",\n",
    "        \"Don\":        \"Mr\",\n",
    "        \"Sir\" :       \"Mr\",\n",
    "        \"the Countess\":\"Other\",\n",
    "        \"Dona\":       \"Miss\",\n",
    "        \"Lady\" :      \"Miss\",\n",
    "        \"Mme\":        \"Miss\",\n",
    "        \"Ms\":         \"Miss\",\n",
    "        \"Mrs\" :       \"Miss\",\n",
    "        \"Mlle\":       \"Miss\",\n",
    "        \"Miss\" :      \"Miss\",\n",
    "        \"Mr\" :        \"Mr\",\n",
    "        \"Master\" :    \"Mr\"\n",
    "                   }\n",
    "\n",
    "df['Title'] = df.Title.map(Title_Dictionary)\n",
    "df_test['Title'] = df_test.Title.map(Title_Dictionary)"
   ]
  },
  {
   "cell_type": "code",
   "execution_count": 5,
   "metadata": {},
   "outputs": [],
   "source": [
    "# Train\n",
    "train_y = df['Survived']\n",
    "df['Sex'] = df['Sex'].astype('category').cat.codes\n",
    "df['Embarked'] = df[\"Embarked\"].replace('s', 'S')\n",
    "df['Embarked'] = df[\"Embarked\"].replace('c', 'C')\n",
    "df['Embarked'] = df[\"Embarked\"].replace('q', 'Q')\n",
    "df['Embarked'] = df['Embarked'].astype('category').cat.codes\n",
    "df['Title'] = df['Title'].astype('category').cat.codes\n",
    "\n",
    "df['Cabin'] = df['Cabin'].fillna(\"\")\n",
    "df['Family_Members'] = df['Parch'] + df['SibSp']\n",
    "df['Family_Numerous'] = ((df['Family_Members'] > 1) & (df['Family_Members'] < 5)).astype(int)\n",
    "df['IsChild'] = (df['Age'] < 5.0).astype(int)\n",
    "df['IsAlone'] = np.where((df['SibSp'] == 0) & (df['Parch'] == 0), 1, 0)\n",
    "df['Age'] = df['Age'].fillna(28.80)"
   ]
  },
  {
   "cell_type": "code",
   "execution_count": 6,
   "metadata": {},
   "outputs": [
    {
     "data": {
      "text/plain": [
       "PassengerId        0\n",
       "Survived           0\n",
       "Pclass             0\n",
       "Name               0\n",
       "Sex                0\n",
       "Age                0\n",
       "SibSp              0\n",
       "Parch              0\n",
       "Ticket             0\n",
       "Fare               0\n",
       "Cabin              0\n",
       "Embarked           0\n",
       "Title              0\n",
       "Family_Members     0\n",
       "Family_Numerous    0\n",
       "IsChild            0\n",
       "IsAlone            0\n",
       "dtype: int64"
      ]
     },
     "execution_count": 6,
     "metadata": {},
     "output_type": "execute_result"
    }
   ],
   "source": [
    "df.isna().sum()"
   ]
  },
  {
   "cell_type": "code",
   "execution_count": 7,
   "metadata": {},
   "outputs": [],
   "source": [
    "df = df.select_dtypes(exclude=['object'])\n",
    "df = df.drop([\"PassengerId\", \"Survived\", \"Family_Members\"], axis=1)\n",
    "train_x = df"
   ]
  },
  {
   "cell_type": "code",
   "execution_count": 8,
   "metadata": {},
   "outputs": [],
   "source": [
    "#Test\n",
    "df_test['Sex'] = df_test['Sex'].astype('category').cat.codes\n",
    "\n",
    "df_test['Embarked'] = df_test[\"Embarked\"].replace('s', 'S')\n",
    "df_test['Embarked'] = df_test[\"Embarked\"].replace('c', 'C')\n",
    "df_test['Embarked'] = df_test[\"Embarked\"].replace('q', 'Q')\n",
    "df_test['Embarked'] = df_test['Embarked'].astype('category').cat.codes\n",
    "df_test['Title'] = df_test['Title'].astype('category').cat.codes\n",
    "df_test['Fare'] = df_test['Fare'].fillna(30)\n",
    "df_test['Cabin'] = df_test['Cabin'].fillna(\"\")\n",
    "df_test['Family_Members'] = df_test['Parch'] + df_test['SibSp'] \n",
    "df_test['Family_Numerous'] = ((df_test['Family_Members'] > 1) & (df_test['Family_Members'] < 5)).astype(int)\n",
    "df_test['IsChild'] = (df_test['Age'] < 5.0).astype(int)\n",
    "df_test['IsAlone'] = np.where((df_test['SibSp'] == 0) & (df_test['Parch'] == 0), 1, 0)\n",
    "df_test['Age'] = df_test['Age'].fillna(28.80)"
   ]
  },
  {
   "cell_type": "code",
   "execution_count": 9,
   "metadata": {},
   "outputs": [
    {
     "data": {
      "text/plain": [
       "PassengerId        0\n",
       "Pclass             0\n",
       "Name               0\n",
       "Sex                0\n",
       "Age                0\n",
       "SibSp              0\n",
       "Parch              0\n",
       "Ticket             0\n",
       "Fare               0\n",
       "Cabin              0\n",
       "Embarked           0\n",
       "Title              0\n",
       "Family_Members     0\n",
       "Family_Numerous    0\n",
       "IsChild            0\n",
       "IsAlone            0\n",
       "dtype: int64"
      ]
     },
     "execution_count": 9,
     "metadata": {},
     "output_type": "execute_result"
    }
   ],
   "source": [
    "df_test.isna().sum()"
   ]
  },
  {
   "cell_type": "code",
   "execution_count": 10,
   "metadata": {},
   "outputs": [],
   "source": [
    "df_test = df_test.select_dtypes(exclude=['object'])\n",
    "df_test = df_test.drop([\"PassengerId\", \"Family_Members\"], axis=1)\n",
    "test_x = df_test"
   ]
  },
  {
   "cell_type": "code",
   "execution_count": 11,
   "metadata": {},
   "outputs": [
    {
     "data": {
      "text/html": [
       "<div>\n",
       "<style scoped>\n",
       "    .dataframe tbody tr th:only-of-type {\n",
       "        vertical-align: middle;\n",
       "    }\n",
       "\n",
       "    .dataframe tbody tr th {\n",
       "        vertical-align: top;\n",
       "    }\n",
       "\n",
       "    .dataframe thead th {\n",
       "        text-align: right;\n",
       "    }\n",
       "</style>\n",
       "<table border=\"1\" class=\"dataframe\">\n",
       "  <thead>\n",
       "    <tr style=\"text-align: right;\">\n",
       "      <th></th>\n",
       "      <th>Pclass</th>\n",
       "      <th>Sex</th>\n",
       "      <th>Age</th>\n",
       "      <th>SibSp</th>\n",
       "      <th>Parch</th>\n",
       "      <th>Fare</th>\n",
       "      <th>Embarked</th>\n",
       "      <th>Title</th>\n",
       "      <th>Family_Numerous</th>\n",
       "      <th>IsChild</th>\n",
       "      <th>IsAlone</th>\n",
       "    </tr>\n",
       "  </thead>\n",
       "  <tbody>\n",
       "    <tr>\n",
       "      <th>0</th>\n",
       "      <td>0.827377</td>\n",
       "      <td>0.737695</td>\n",
       "      <td>-0.578515</td>\n",
       "      <td>0.432793</td>\n",
       "      <td>-0.473674</td>\n",
       "      <td>-0.502445</td>\n",
       "      <td>0.587966</td>\n",
       "      <td>0.673537</td>\n",
       "      <td>-0.442689</td>\n",
       "      <td>-0.216803</td>\n",
       "      <td>-1.231645</td>\n",
       "    </tr>\n",
       "    <tr>\n",
       "      <th>1</th>\n",
       "      <td>-1.566107</td>\n",
       "      <td>-1.355574</td>\n",
       "      <td>0.652286</td>\n",
       "      <td>0.432793</td>\n",
       "      <td>-0.473674</td>\n",
       "      <td>0.786845</td>\n",
       "      <td>-1.912644</td>\n",
       "      <td>-1.313620</td>\n",
       "      <td>-0.442689</td>\n",
       "      <td>-0.216803</td>\n",
       "      <td>-1.231645</td>\n",
       "    </tr>\n",
       "    <tr>\n",
       "      <th>2</th>\n",
       "      <td>0.827377</td>\n",
       "      <td>-1.355574</td>\n",
       "      <td>-0.270815</td>\n",
       "      <td>-0.474545</td>\n",
       "      <td>-0.473674</td>\n",
       "      <td>-0.488854</td>\n",
       "      <td>0.587966</td>\n",
       "      <td>-1.313620</td>\n",
       "      <td>-0.442689</td>\n",
       "      <td>-0.216803</td>\n",
       "      <td>0.811922</td>\n",
       "    </tr>\n",
       "    <tr>\n",
       "      <th>3</th>\n",
       "      <td>-1.566107</td>\n",
       "      <td>-1.355574</td>\n",
       "      <td>0.421510</td>\n",
       "      <td>0.432793</td>\n",
       "      <td>-0.473674</td>\n",
       "      <td>0.420730</td>\n",
       "      <td>0.587966</td>\n",
       "      <td>-1.313620</td>\n",
       "      <td>-0.442689</td>\n",
       "      <td>-0.216803</td>\n",
       "      <td>-1.231645</td>\n",
       "    </tr>\n",
       "    <tr>\n",
       "      <th>4</th>\n",
       "      <td>0.827377</td>\n",
       "      <td>0.737695</td>\n",
       "      <td>0.421510</td>\n",
       "      <td>-0.474545</td>\n",
       "      <td>-0.473674</td>\n",
       "      <td>-0.486337</td>\n",
       "      <td>0.587966</td>\n",
       "      <td>0.673537</td>\n",
       "      <td>-0.442689</td>\n",
       "      <td>-0.216803</td>\n",
       "      <td>0.811922</td>\n",
       "    </tr>\n",
       "  </tbody>\n",
       "</table>\n",
       "</div>"
      ],
      "text/plain": [
       "     Pclass       Sex       Age     SibSp     Parch      Fare  Embarked  \\\n",
       "0  0.827377  0.737695 -0.578515  0.432793 -0.473674 -0.502445  0.587966   \n",
       "1 -1.566107 -1.355574  0.652286  0.432793 -0.473674  0.786845 -1.912644   \n",
       "2  0.827377 -1.355574 -0.270815 -0.474545 -0.473674 -0.488854  0.587966   \n",
       "3 -1.566107 -1.355574  0.421510  0.432793 -0.473674  0.420730  0.587966   \n",
       "4  0.827377  0.737695  0.421510 -0.474545 -0.473674 -0.486337  0.587966   \n",
       "\n",
       "      Title  Family_Numerous   IsChild   IsAlone  \n",
       "0  0.673537        -0.442689 -0.216803 -1.231645  \n",
       "1 -1.313620        -0.442689 -0.216803 -1.231645  \n",
       "2 -1.313620        -0.442689 -0.216803  0.811922  \n",
       "3 -1.313620        -0.442689 -0.216803 -1.231645  \n",
       "4  0.673537        -0.442689 -0.216803  0.811922  "
      ]
     },
     "execution_count": 11,
     "metadata": {},
     "output_type": "execute_result"
    }
   ],
   "source": [
    "sc = StandardScaler()\n",
    "train_x = pd.DataFrame(sc.fit_transform(train_x.values), index=train_x.index, columns=train_x.columns)\n",
    "test_x = pd.DataFrame(sc.fit_transform(test_x.values), index=test_x.index, columns=test_x.columns)\n",
    "train_x.head()"
   ]
  },
  {
   "cell_type": "code",
   "execution_count": 12,
   "metadata": {},
   "outputs": [
    {
     "name": "stdout",
     "output_type": "stream",
     "text": [
      "_________________________________________________________________\n",
      "Layer (type)                 Output Shape              Param #   \n",
      "=================================================================\n",
      "dense_1 (Dense)              (None, 30)                360       \n",
      "_________________________________________________________________\n",
      "dropout_1 (Dropout)          (None, 30)                0         \n",
      "_________________________________________________________________\n",
      "dense_2 (Dense)              (None, 60)                1860      \n",
      "_________________________________________________________________\n",
      "dropout_2 (Dropout)          (None, 60)                0         \n",
      "_________________________________________________________________\n",
      "dense_3 (Dense)              (None, 150)               9150      \n",
      "_________________________________________________________________\n",
      "dropout_3 (Dropout)          (None, 150)               0         \n",
      "_________________________________________________________________\n",
      "dense_4 (Dense)              (None, 1)                 151       \n",
      "=================================================================\n",
      "Total params: 11,521\n",
      "Trainable params: 11,521\n",
      "Non-trainable params: 0\n",
      "_________________________________________________________________\n"
     ]
    }
   ],
   "source": [
    "model = Sequential()\n",
    "model.add(Dense(30, \n",
    "                activation='relu',  \n",
    "                input_dim=df.shape[1],\n",
    "                kernel_initializer='uniform'))\n",
    "model.add(Dropout(0.3))\n",
    "model.add(Dense(60,\n",
    "                kernel_initializer='uniform',\n",
    "                activation='relu'))\n",
    "model.add(Dropout(0.4))\n",
    "model.add(Dense(150,\n",
    "                kernel_initializer='uniform',\n",
    "                activation='relu'))\n",
    "model.add(Dropout(0.3))\n",
    "model.add(Dense(1,\n",
    "                kernel_initializer='uniform',\n",
    "                activation='sigmoid'))\n",
    "model.summary()\n",
    "\n",
    "sgd = SGD(lr = 0.03, momentum = 0.95)\n",
    "adam  = Adam(lr=0.0007, beta_1=0.9, beta_2=0.999, epsilon=None, decay=0.0, amsgrad=False)\n",
    "# Compiling our model\n",
    "model.compile(optimizer = adam, \n",
    "                   loss = 'binary_crossentropy', \n",
    "                   metrics = ['accuracy'])\n",
    "#optimizers list\n",
    "#optimizers['SGD', 'RMSprop', 'Adagrad', 'Adadelta', 'Adam', 'Adamax', 'Nadam']"
   ]
  },
  {
   "cell_type": "code",
   "execution_count": 13,
   "metadata": {},
   "outputs": [
    {
     "name": "stdout",
     "output_type": "stream",
     "text": [
      "Train on 668 samples, validate on 223 samples\n",
      "Epoch 1/150\n",
      "668/668 [==============================] - 1s 1ms/step - loss: 0.6913 - acc: 0.5988 - val_loss: 0.6859 - val_acc: 0.6323\n",
      "Epoch 2/150\n",
      "668/668 [==============================] - 0s 66us/step - loss: 0.6747 - acc: 0.6332 - val_loss: 0.6373 - val_acc: 0.8117\n",
      "Epoch 3/150\n",
      "668/668 [==============================] - 0s 62us/step - loss: 0.5975 - acc: 0.7814 - val_loss: 0.4878 - val_acc: 0.8251\n",
      "Epoch 4/150\n",
      "668/668 [==============================] - 0s 61us/step - loss: 0.4993 - acc: 0.7889 - val_loss: 0.4112 - val_acc: 0.8341\n",
      "Epoch 5/150\n",
      "668/668 [==============================] - 0s 61us/step - loss: 0.4638 - acc: 0.8039 - val_loss: 0.3937 - val_acc: 0.8386\n",
      "Epoch 6/150\n",
      "668/668 [==============================] - 0s 58us/step - loss: 0.4687 - acc: 0.8024 - val_loss: 0.3885 - val_acc: 0.8341\n",
      "Epoch 7/150\n",
      "668/668 [==============================] - 0s 59us/step - loss: 0.4588 - acc: 0.8054 - val_loss: 0.3826 - val_acc: 0.8386\n",
      "Epoch 8/150\n",
      "668/668 [==============================] - 0s 61us/step - loss: 0.4525 - acc: 0.8054 - val_loss: 0.3749 - val_acc: 0.8430\n",
      "Epoch 9/150\n",
      "668/668 [==============================] - 0s 61us/step - loss: 0.4485 - acc: 0.8114 - val_loss: 0.3735 - val_acc: 0.8430\n",
      "Epoch 10/150\n",
      "668/668 [==============================] - 0s 67us/step - loss: 0.4470 - acc: 0.8129 - val_loss: 0.3751 - val_acc: 0.8296\n",
      "Epoch 11/150\n",
      "668/668 [==============================] - 0s 62us/step - loss: 0.4386 - acc: 0.8234 - val_loss: 0.3777 - val_acc: 0.8296\n",
      "Epoch 12/150\n",
      "668/668 [==============================] - 0s 62us/step - loss: 0.4371 - acc: 0.8129 - val_loss: 0.3766 - val_acc: 0.8296\n",
      "Epoch 13/150\n",
      "668/668 [==============================] - 0s 61us/step - loss: 0.4367 - acc: 0.8099 - val_loss: 0.3773 - val_acc: 0.8296\n",
      "Epoch 14/150\n",
      "668/668 [==============================] - 0s 61us/step - loss: 0.4427 - acc: 0.8219 - val_loss: 0.3800 - val_acc: 0.8341\n",
      "Epoch 15/150\n",
      "668/668 [==============================] - 0s 60us/step - loss: 0.4331 - acc: 0.8144 - val_loss: 0.3794 - val_acc: 0.8341\n",
      "Epoch 16/150\n",
      "668/668 [==============================] - 0s 61us/step - loss: 0.4352 - acc: 0.8204 - val_loss: 0.3786 - val_acc: 0.8386\n",
      "Epoch 17/150\n",
      "668/668 [==============================] - 0s 61us/step - loss: 0.4370 - acc: 0.8129 - val_loss: 0.3780 - val_acc: 0.8386\n",
      "Epoch 18/150\n",
      "668/668 [==============================] - 0s 62us/step - loss: 0.4276 - acc: 0.8249 - val_loss: 0.3774 - val_acc: 0.8251\n",
      "Epoch 19/150\n",
      "668/668 [==============================] - 0s 61us/step - loss: 0.4281 - acc: 0.8293 - val_loss: 0.3801 - val_acc: 0.8386\n",
      "Epoch 20/150\n",
      "668/668 [==============================] - 0s 57us/step - loss: 0.4292 - acc: 0.8189 - val_loss: 0.3779 - val_acc: 0.8296\n",
      "Epoch 21/150\n",
      "668/668 [==============================] - 0s 59us/step - loss: 0.4461 - acc: 0.8159 - val_loss: 0.3790 - val_acc: 0.8341\n",
      "Epoch 22/150\n",
      "668/668 [==============================] - 0s 59us/step - loss: 0.4320 - acc: 0.8174 - val_loss: 0.3788 - val_acc: 0.8341\n",
      "Epoch 23/150\n",
      "668/668 [==============================] - 0s 57us/step - loss: 0.4385 - acc: 0.8204 - val_loss: 0.3787 - val_acc: 0.8341\n",
      "Epoch 24/150\n",
      "668/668 [==============================] - 0s 57us/step - loss: 0.4359 - acc: 0.8189 - val_loss: 0.3795 - val_acc: 0.8430\n",
      "Epoch 25/150\n",
      "668/668 [==============================] - 0s 58us/step - loss: 0.4267 - acc: 0.8368 - val_loss: 0.3799 - val_acc: 0.8296\n",
      "Epoch 26/150\n",
      "668/668 [==============================] - 0s 65us/step - loss: 0.4264 - acc: 0.8234 - val_loss: 0.3801 - val_acc: 0.8386\n",
      "Epoch 27/150\n",
      "668/668 [==============================] - 0s 62us/step - loss: 0.4307 - acc: 0.8234 - val_loss: 0.3784 - val_acc: 0.8296\n",
      "Epoch 28/150\n",
      "668/668 [==============================] - 0s 61us/step - loss: 0.4234 - acc: 0.8234 - val_loss: 0.3780 - val_acc: 0.8296\n",
      "Epoch 29/150\n",
      "668/668 [==============================] - 0s 57us/step - loss: 0.4202 - acc: 0.8293 - val_loss: 0.3794 - val_acc: 0.8296\n",
      "Epoch 30/150\n",
      "668/668 [==============================] - 0s 61us/step - loss: 0.4213 - acc: 0.8219 - val_loss: 0.3783 - val_acc: 0.8386\n",
      "Epoch 31/150\n",
      "668/668 [==============================] - 0s 60us/step - loss: 0.4326 - acc: 0.8204 - val_loss: 0.3797 - val_acc: 0.8341\n",
      "Epoch 32/150\n",
      "668/668 [==============================] - 0s 59us/step - loss: 0.4222 - acc: 0.8308 - val_loss: 0.3794 - val_acc: 0.8341\n",
      "Epoch 33/150\n",
      "668/668 [==============================] - 0s 57us/step - loss: 0.4312 - acc: 0.8293 - val_loss: 0.3802 - val_acc: 0.8341\n",
      "Epoch 34/150\n",
      "668/668 [==============================] - 0s 57us/step - loss: 0.4211 - acc: 0.8323 - val_loss: 0.3802 - val_acc: 0.8386\n",
      "Epoch 35/150\n",
      "668/668 [==============================] - 0s 59us/step - loss: 0.4201 - acc: 0.8219 - val_loss: 0.3799 - val_acc: 0.8296\n",
      "Epoch 36/150\n",
      "668/668 [==============================] - 0s 61us/step - loss: 0.4314 - acc: 0.8189 - val_loss: 0.3798 - val_acc: 0.8430\n",
      "Epoch 37/150\n",
      "668/668 [==============================] - 0s 59us/step - loss: 0.4167 - acc: 0.8278 - val_loss: 0.3799 - val_acc: 0.8430\n",
      "Epoch 38/150\n",
      "668/668 [==============================] - 0s 62us/step - loss: 0.4212 - acc: 0.8353 - val_loss: 0.3796 - val_acc: 0.8386\n",
      "Epoch 39/150\n",
      "668/668 [==============================] - 0s 61us/step - loss: 0.4269 - acc: 0.8219 - val_loss: 0.3787 - val_acc: 0.8341\n",
      "Epoch 40/150\n",
      "668/668 [==============================] - 0s 61us/step - loss: 0.4221 - acc: 0.8204 - val_loss: 0.3800 - val_acc: 0.8341\n",
      "Epoch 41/150\n",
      "668/668 [==============================] - 0s 61us/step - loss: 0.4253 - acc: 0.8234 - val_loss: 0.3799 - val_acc: 0.8341\n",
      "Epoch 42/150\n",
      "668/668 [==============================] - 0s 62us/step - loss: 0.4335 - acc: 0.8308 - val_loss: 0.3821 - val_acc: 0.8341\n",
      "Epoch 43/150\n",
      "668/668 [==============================] - 0s 62us/step - loss: 0.4264 - acc: 0.8234 - val_loss: 0.3818 - val_acc: 0.8341\n",
      "Epoch 44/150\n",
      "668/668 [==============================] - 0s 55us/step - loss: 0.4150 - acc: 0.8278 - val_loss: 0.3800 - val_acc: 0.8386\n",
      "Epoch 45/150\n",
      "668/668 [==============================] - 0s 65us/step - loss: 0.4271 - acc: 0.8234 - val_loss: 0.3774 - val_acc: 0.8386\n",
      "Epoch 46/150\n",
      "668/668 [==============================] - 0s 60us/step - loss: 0.4162 - acc: 0.8308 - val_loss: 0.3784 - val_acc: 0.8386\n",
      "Epoch 47/150\n",
      "668/668 [==============================] - 0s 59us/step - loss: 0.4110 - acc: 0.8308 - val_loss: 0.3794 - val_acc: 0.8296\n",
      "Epoch 48/150\n",
      "668/668 [==============================] - 0s 61us/step - loss: 0.4196 - acc: 0.8278 - val_loss: 0.3799 - val_acc: 0.8341\n",
      "Epoch 49/150\n",
      "668/668 [==============================] - 0s 66us/step - loss: 0.4118 - acc: 0.8353 - val_loss: 0.3777 - val_acc: 0.8430\n",
      "Epoch 50/150\n",
      "668/668 [==============================] - 0s 60us/step - loss: 0.4267 - acc: 0.8263 - val_loss: 0.3797 - val_acc: 0.8386\n",
      "Epoch 51/150\n",
      "668/668 [==============================] - 0s 70us/step - loss: 0.4275 - acc: 0.8174 - val_loss: 0.3794 - val_acc: 0.8386\n",
      "Epoch 52/150\n",
      "668/668 [==============================] - 0s 61us/step - loss: 0.4257 - acc: 0.8234 - val_loss: 0.3783 - val_acc: 0.8341\n",
      "Epoch 53/150\n",
      "668/668 [==============================] - 0s 58us/step - loss: 0.4141 - acc: 0.8338 - val_loss: 0.3783 - val_acc: 0.8341\n",
      "Epoch 54/150\n",
      "668/668 [==============================] - 0s 62us/step - loss: 0.4068 - acc: 0.8398 - val_loss: 0.3772 - val_acc: 0.8341\n",
      "Epoch 55/150\n",
      "668/668 [==============================] - 0s 60us/step - loss: 0.4258 - acc: 0.8278 - val_loss: 0.3779 - val_acc: 0.8341\n",
      "Epoch 56/150\n",
      "668/668 [==============================] - 0s 62us/step - loss: 0.4223 - acc: 0.8234 - val_loss: 0.3784 - val_acc: 0.8341\n",
      "Epoch 57/150\n",
      "668/668 [==============================] - 0s 62us/step - loss: 0.4212 - acc: 0.8308 - val_loss: 0.3794 - val_acc: 0.8430\n",
      "Epoch 58/150\n",
      "668/668 [==============================] - 0s 63us/step - loss: 0.4249 - acc: 0.8353 - val_loss: 0.3803 - val_acc: 0.8386\n",
      "Epoch 59/150\n",
      "668/668 [==============================] - 0s 62us/step - loss: 0.4182 - acc: 0.8353 - val_loss: 0.3812 - val_acc: 0.8386\n",
      "Epoch 60/150\n",
      "668/668 [==============================] - 0s 61us/step - loss: 0.4185 - acc: 0.8308 - val_loss: 0.3809 - val_acc: 0.8430\n",
      "Epoch 61/150\n",
      "668/668 [==============================] - 0s 61us/step - loss: 0.4213 - acc: 0.8234 - val_loss: 0.3834 - val_acc: 0.8386\n",
      "Epoch 62/150\n",
      "668/668 [==============================] - 0s 61us/step - loss: 0.4155 - acc: 0.8189 - val_loss: 0.3809 - val_acc: 0.8430\n",
      "Epoch 63/150\n",
      "668/668 [==============================] - 0s 59us/step - loss: 0.4130 - acc: 0.8443 - val_loss: 0.3806 - val_acc: 0.8341\n",
      "Epoch 64/150\n",
      "668/668 [==============================] - 0s 59us/step - loss: 0.4246 - acc: 0.8204 - val_loss: 0.3811 - val_acc: 0.8430\n",
      "Epoch 65/150\n",
      "668/668 [==============================] - 0s 61us/step - loss: 0.4258 - acc: 0.8204 - val_loss: 0.3832 - val_acc: 0.8296\n",
      "Epoch 66/150\n",
      "668/668 [==============================] - 0s 63us/step - loss: 0.4292 - acc: 0.8219 - val_loss: 0.3840 - val_acc: 0.8386\n",
      "Epoch 67/150\n",
      "668/668 [==============================] - 0s 62us/step - loss: 0.4220 - acc: 0.8323 - val_loss: 0.3835 - val_acc: 0.8341\n",
      "Epoch 68/150\n",
      "668/668 [==============================] - 0s 61us/step - loss: 0.4201 - acc: 0.8249 - val_loss: 0.3813 - val_acc: 0.8430\n",
      "Epoch 69/150\n",
      "668/668 [==============================] - 0s 61us/step - loss: 0.4096 - acc: 0.8308 - val_loss: 0.3814 - val_acc: 0.8341\n",
      "Epoch 70/150\n",
      "668/668 [==============================] - 0s 62us/step - loss: 0.4283 - acc: 0.8219 - val_loss: 0.3827 - val_acc: 0.8341\n",
      "Epoch 71/150\n",
      "668/668 [==============================] - 0s 61us/step - loss: 0.4073 - acc: 0.8293 - val_loss: 0.3829 - val_acc: 0.8386\n",
      "Epoch 72/150\n",
      "668/668 [==============================] - 0s 59us/step - loss: 0.4046 - acc: 0.8368 - val_loss: 0.3817 - val_acc: 0.8386\n",
      "Epoch 73/150\n",
      "668/668 [==============================] - 0s 58us/step - loss: 0.4293 - acc: 0.8174 - val_loss: 0.3832 - val_acc: 0.8296\n",
      "Epoch 74/150\n",
      "668/668 [==============================] - 0s 59us/step - loss: 0.4143 - acc: 0.8353 - val_loss: 0.3832 - val_acc: 0.8341\n",
      "Epoch 75/150\n",
      "668/668 [==============================] - 0s 65us/step - loss: 0.4200 - acc: 0.8293 - val_loss: 0.3825 - val_acc: 0.8341\n",
      "Epoch 76/150\n",
      "668/668 [==============================] - 0s 64us/step - loss: 0.4182 - acc: 0.8249 - val_loss: 0.3823 - val_acc: 0.8341\n",
      "Epoch 77/150\n",
      "668/668 [==============================] - 0s 58us/step - loss: 0.4034 - acc: 0.8338 - val_loss: 0.3822 - val_acc: 0.8386\n",
      "Epoch 78/150\n",
      "668/668 [==============================] - 0s 60us/step - loss: 0.4117 - acc: 0.8323 - val_loss: 0.3831 - val_acc: 0.8341\n",
      "Epoch 79/150\n",
      "668/668 [==============================] - 0s 58us/step - loss: 0.4075 - acc: 0.8353 - val_loss: 0.3825 - val_acc: 0.8296\n",
      "Epoch 80/150\n",
      "668/668 [==============================] - 0s 58us/step - loss: 0.4194 - acc: 0.8234 - val_loss: 0.3852 - val_acc: 0.8296\n",
      "Epoch 81/150\n",
      "668/668 [==============================] - 0s 57us/step - loss: 0.4177 - acc: 0.8398 - val_loss: 0.3836 - val_acc: 0.8341\n",
      "Epoch 82/150\n",
      "668/668 [==============================] - 0s 59us/step - loss: 0.4178 - acc: 0.8219 - val_loss: 0.3846 - val_acc: 0.8296\n",
      "Epoch 83/150\n",
      "668/668 [==============================] - 0s 62us/step - loss: 0.4118 - acc: 0.8368 - val_loss: 0.3857 - val_acc: 0.8296\n",
      "Epoch 84/150\n",
      "668/668 [==============================] - 0s 62us/step - loss: 0.4043 - acc: 0.8368 - val_loss: 0.3854 - val_acc: 0.8296\n",
      "Epoch 85/150\n",
      "668/668 [==============================] - 0s 62us/step - loss: 0.4292 - acc: 0.8159 - val_loss: 0.3864 - val_acc: 0.8341\n",
      "Epoch 86/150\n",
      "668/668 [==============================] - 0s 60us/step - loss: 0.4153 - acc: 0.8413 - val_loss: 0.3849 - val_acc: 0.8341\n",
      "Epoch 87/150\n",
      "668/668 [==============================] - 0s 60us/step - loss: 0.4157 - acc: 0.8308 - val_loss: 0.3855 - val_acc: 0.8386\n",
      "Epoch 88/150\n",
      "668/668 [==============================] - 0s 60us/step - loss: 0.4088 - acc: 0.8443 - val_loss: 0.3852 - val_acc: 0.8430\n",
      "Epoch 89/150\n",
      "668/668 [==============================] - 0s 58us/step - loss: 0.4150 - acc: 0.8204 - val_loss: 0.3853 - val_acc: 0.8386\n",
      "Epoch 90/150\n",
      "668/668 [==============================] - 0s 63us/step - loss: 0.4061 - acc: 0.8323 - val_loss: 0.3852 - val_acc: 0.8251\n",
      "Epoch 91/150\n",
      "668/668 [==============================] - 0s 62us/step - loss: 0.4091 - acc: 0.8293 - val_loss: 0.3833 - val_acc: 0.8341\n",
      "Epoch 92/150\n",
      "668/668 [==============================] - 0s 58us/step - loss: 0.4064 - acc: 0.8353 - val_loss: 0.3855 - val_acc: 0.8341\n",
      "Epoch 93/150\n",
      "668/668 [==============================] - 0s 58us/step - loss: 0.4135 - acc: 0.8308 - val_loss: 0.3864 - val_acc: 0.8341\n",
      "Epoch 94/150\n",
      "668/668 [==============================] - 0s 56us/step - loss: 0.3995 - acc: 0.8488 - val_loss: 0.3882 - val_acc: 0.8296\n",
      "Epoch 95/150\n",
      "668/668 [==============================] - 0s 59us/step - loss: 0.4131 - acc: 0.8308 - val_loss: 0.3898 - val_acc: 0.8296\n",
      "Epoch 96/150\n",
      "668/668 [==============================] - 0s 60us/step - loss: 0.4129 - acc: 0.8338 - val_loss: 0.3914 - val_acc: 0.8296\n",
      "Epoch 97/150\n",
      "668/668 [==============================] - 0s 61us/step - loss: 0.4061 - acc: 0.8398 - val_loss: 0.3902 - val_acc: 0.8251\n",
      "Epoch 98/150\n",
      "668/668 [==============================] - 0s 60us/step - loss: 0.4061 - acc: 0.8353 - val_loss: 0.3900 - val_acc: 0.8386\n",
      "Epoch 99/150\n",
      "668/668 [==============================] - 0s 58us/step - loss: 0.3948 - acc: 0.8368 - val_loss: 0.3901 - val_acc: 0.8206\n",
      "Epoch 100/150\n",
      "668/668 [==============================] - 0s 65us/step - loss: 0.4103 - acc: 0.8338 - val_loss: 0.3920 - val_acc: 0.8251\n",
      "Epoch 101/150\n",
      "668/668 [==============================] - 0s 64us/step - loss: 0.4165 - acc: 0.8204 - val_loss: 0.3906 - val_acc: 0.8430\n",
      "Epoch 102/150\n",
      "668/668 [==============================] - 0s 60us/step - loss: 0.4086 - acc: 0.8249 - val_loss: 0.3904 - val_acc: 0.8251\n",
      "Epoch 103/150\n",
      "668/668 [==============================] - 0s 62us/step - loss: 0.4078 - acc: 0.8263 - val_loss: 0.3932 - val_acc: 0.8296\n",
      "Epoch 104/150\n",
      "668/668 [==============================] - 0s 61us/step - loss: 0.4063 - acc: 0.8308 - val_loss: 0.3950 - val_acc: 0.8296\n",
      "Epoch 105/150\n",
      "668/668 [==============================] - 0s 63us/step - loss: 0.4130 - acc: 0.8278 - val_loss: 0.3916 - val_acc: 0.8386\n",
      "Epoch 106/150\n",
      "668/668 [==============================] - 0s 61us/step - loss: 0.4083 - acc: 0.8249 - val_loss: 0.3915 - val_acc: 0.8296\n",
      "Epoch 107/150\n",
      "668/668 [==============================] - 0s 61us/step - loss: 0.4101 - acc: 0.8308 - val_loss: 0.3915 - val_acc: 0.8251\n",
      "Epoch 108/150\n",
      "668/668 [==============================] - 0s 59us/step - loss: 0.4109 - acc: 0.8249 - val_loss: 0.3910 - val_acc: 0.8296\n",
      "Epoch 109/150\n",
      "668/668 [==============================] - 0s 61us/step - loss: 0.3949 - acc: 0.8383 - val_loss: 0.3914 - val_acc: 0.8341\n",
      "Epoch 110/150\n",
      "668/668 [==============================] - 0s 61us/step - loss: 0.4089 - acc: 0.8398 - val_loss: 0.3923 - val_acc: 0.8341\n",
      "Epoch 111/150\n",
      "668/668 [==============================] - 0s 59us/step - loss: 0.3913 - acc: 0.8443 - val_loss: 0.3919 - val_acc: 0.8341\n",
      "Epoch 112/150\n",
      "668/668 [==============================] - 0s 59us/step - loss: 0.4060 - acc: 0.8308 - val_loss: 0.3909 - val_acc: 0.8296\n",
      "Epoch 113/150\n",
      "668/668 [==============================] - 0s 60us/step - loss: 0.4078 - acc: 0.8174 - val_loss: 0.3890 - val_acc: 0.8296\n",
      "Epoch 114/150\n",
      "668/668 [==============================] - 0s 64us/step - loss: 0.4120 - acc: 0.8398 - val_loss: 0.3914 - val_acc: 0.8296\n",
      "Epoch 115/150\n",
      "668/668 [==============================] - 0s 62us/step - loss: 0.4103 - acc: 0.8249 - val_loss: 0.3941 - val_acc: 0.8341\n",
      "Epoch 116/150\n",
      "668/668 [==============================] - 0s 61us/step - loss: 0.3972 - acc: 0.8338 - val_loss: 0.3963 - val_acc: 0.8341\n",
      "Epoch 117/150\n",
      "668/668 [==============================] - 0s 59us/step - loss: 0.3932 - acc: 0.8458 - val_loss: 0.3983 - val_acc: 0.8296\n",
      "Epoch 118/150\n",
      "668/668 [==============================] - 0s 58us/step - loss: 0.4081 - acc: 0.8338 - val_loss: 0.3979 - val_acc: 0.8341\n",
      "Epoch 119/150\n",
      "668/668 [==============================] - 0s 59us/step - loss: 0.4043 - acc: 0.8308 - val_loss: 0.3977 - val_acc: 0.8296\n",
      "Epoch 120/150\n",
      "668/668 [==============================] - 0s 59us/step - loss: 0.4086 - acc: 0.8293 - val_loss: 0.3966 - val_acc: 0.8341\n",
      "Epoch 121/150\n",
      "668/668 [==============================] - 0s 62us/step - loss: 0.4053 - acc: 0.8308 - val_loss: 0.3980 - val_acc: 0.8341\n",
      "Epoch 122/150\n",
      "668/668 [==============================] - 0s 60us/step - loss: 0.3966 - acc: 0.8323 - val_loss: 0.3992 - val_acc: 0.8341\n",
      "Epoch 123/150\n",
      "668/668 [==============================] - 0s 60us/step - loss: 0.3985 - acc: 0.8428 - val_loss: 0.3959 - val_acc: 0.8251\n",
      "Epoch 124/150\n",
      "668/668 [==============================] - 0s 57us/step - loss: 0.3970 - acc: 0.8338 - val_loss: 0.3946 - val_acc: 0.8296\n",
      "Epoch 125/150\n",
      "668/668 [==============================] - 0s 63us/step - loss: 0.4031 - acc: 0.8278 - val_loss: 0.3931 - val_acc: 0.8386\n",
      "Epoch 126/150\n",
      "668/668 [==============================] - 0s 62us/step - loss: 0.3965 - acc: 0.8368 - val_loss: 0.3956 - val_acc: 0.8341\n",
      "Epoch 127/150\n",
      "668/668 [==============================] - 0s 58us/step - loss: 0.4080 - acc: 0.8323 - val_loss: 0.3953 - val_acc: 0.8341\n",
      "Epoch 128/150\n",
      "668/668 [==============================] - 0s 59us/step - loss: 0.4155 - acc: 0.8278 - val_loss: 0.3981 - val_acc: 0.8251\n",
      "Epoch 129/150\n",
      "668/668 [==============================] - 0s 58us/step - loss: 0.4144 - acc: 0.8263 - val_loss: 0.3976 - val_acc: 0.8341\n",
      "Epoch 130/150\n",
      "668/668 [==============================] - 0s 58us/step - loss: 0.4075 - acc: 0.8293 - val_loss: 0.4011 - val_acc: 0.8296\n",
      "Epoch 131/150\n",
      "668/668 [==============================] - 0s 58us/step - loss: 0.4010 - acc: 0.8443 - val_loss: 0.4030 - val_acc: 0.8296\n",
      "Epoch 132/150\n",
      "668/668 [==============================] - 0s 61us/step - loss: 0.3974 - acc: 0.8368 - val_loss: 0.3989 - val_acc: 0.8296\n",
      "Epoch 133/150\n",
      "668/668 [==============================] - 0s 61us/step - loss: 0.4014 - acc: 0.8323 - val_loss: 0.4053 - val_acc: 0.8251\n",
      "Epoch 134/150\n",
      "668/668 [==============================] - 0s 61us/step - loss: 0.3914 - acc: 0.8383 - val_loss: 0.4015 - val_acc: 0.8296\n",
      "Epoch 135/150\n",
      "668/668 [==============================] - 0s 61us/step - loss: 0.4039 - acc: 0.8249 - val_loss: 0.4013 - val_acc: 0.8296\n",
      "Epoch 136/150\n",
      "668/668 [==============================] - 0s 68us/step - loss: 0.4038 - acc: 0.8413 - val_loss: 0.4016 - val_acc: 0.8386\n",
      "Epoch 137/150\n",
      "668/668 [==============================] - 0s 62us/step - loss: 0.3866 - acc: 0.8443 - val_loss: 0.4020 - val_acc: 0.8296\n",
      "Epoch 138/150\n",
      "668/668 [==============================] - 0s 62us/step - loss: 0.4040 - acc: 0.8308 - val_loss: 0.4049 - val_acc: 0.8296\n",
      "Epoch 139/150\n",
      "668/668 [==============================] - 0s 63us/step - loss: 0.4017 - acc: 0.8234 - val_loss: 0.4088 - val_acc: 0.8206\n",
      "Epoch 140/150\n",
      "668/668 [==============================] - 0s 61us/step - loss: 0.3983 - acc: 0.8488 - val_loss: 0.4071 - val_acc: 0.8341\n",
      "Epoch 141/150\n",
      "668/668 [==============================] - 0s 61us/step - loss: 0.3946 - acc: 0.8353 - val_loss: 0.4065 - val_acc: 0.8341\n",
      "Epoch 142/150\n",
      "668/668 [==============================] - 0s 59us/step - loss: 0.3873 - acc: 0.8488 - val_loss: 0.4085 - val_acc: 0.8296\n",
      "Epoch 143/150\n",
      "668/668 [==============================] - 0s 61us/step - loss: 0.4094 - acc: 0.8099 - val_loss: 0.4083 - val_acc: 0.8341\n",
      "Epoch 144/150\n",
      "668/668 [==============================] - 0s 62us/step - loss: 0.3895 - acc: 0.8413 - val_loss: 0.4101 - val_acc: 0.8341\n",
      "Epoch 145/150\n",
      "668/668 [==============================] - 0s 62us/step - loss: 0.3973 - acc: 0.8413 - val_loss: 0.4111 - val_acc: 0.8341\n",
      "Epoch 146/150\n",
      "668/668 [==============================] - 0s 61us/step - loss: 0.3980 - acc: 0.8383 - val_loss: 0.4112 - val_acc: 0.8430\n",
      "Epoch 147/150\n",
      "668/668 [==============================] - 0s 62us/step - loss: 0.3935 - acc: 0.8398 - val_loss: 0.4108 - val_acc: 0.8251\n",
      "Epoch 148/150\n",
      "668/668 [==============================] - 0s 61us/step - loss: 0.3989 - acc: 0.8263 - val_loss: 0.4136 - val_acc: 0.8296\n",
      "Epoch 149/150\n",
      "668/668 [==============================] - 0s 62us/step - loss: 0.3749 - acc: 0.8488 - val_loss: 0.4112 - val_acc: 0.8296\n",
      "Epoch 150/150\n",
      "668/668 [==============================] - 0s 68us/step - loss: 0.3880 - acc: 0.8293 - val_loss: 0.4144 - val_acc: 0.8296\n"
     ]
    }
   ],
   "source": [
    "history = model.fit(train_x, train_y, validation_split=0.25, epochs=150, batch_size=30, verbose=1, shuffle=False)"
   ]
  },
  {
   "cell_type": "code",
   "execution_count": 14,
   "metadata": {},
   "outputs": [
    {
     "data": {
      "image/png": "[encoded data removed]",
      "text/plain": [
       "<Figure size 432x288 with 1 Axes>"
      ]
     },
     "metadata": {
      "needs_background": "light"
     },
     "output_type": "display_data"
    }
   ],
   "source": [
    "plt.plot(history.history['acc'])\n",
    "plt.plot(history.history['val_acc'])\n",
    "plt.xlabel('Epoch')\n",
    "plt.legend(['train', 'validation'], loc='upper left')\n",
    "plt.title('Model Accuracy')\n",
    "plt.ylabel('Accuracy')\n",
    "plt.show()\n"
   ]
  },
  {
   "cell_type": "code",
   "execution_count": 15,
   "metadata": {},
   "outputs": [
    {
     "data": {
      "image/png": "[encoded data removed]",
      "text/plain": [
       "<Figure size 432x288 with 1 Axes>"
      ]
     },
     "metadata": {
      "needs_background": "light"
     },
     "output_type": "display_data"
    }
   ],
   "source": [
    "# summarize history for loss\n",
    "plt.plot(history.history['loss'])\n",
    "plt.plot(history.history['val_loss'])\n",
    "plt.title('model loss')\n",
    "plt.ylabel('loss')\n",
    "plt.xlabel('epoch')\n",
    "plt.legend(['train', 'validation'], loc='upper left')\n",
    "plt.show()"
   ]
  },
  {
   "cell_type": "code",
   "execution_count": 16,
   "metadata": {},
   "outputs": [
    {
     "data": {
      "text/plain": [
       "XGBClassifier(base_score=0.5, booster='gbtree', colsample_bylevel=1,\n",
       "              colsample_bynode=1, colsample_bytree=1, gamma=0,\n",
       "              learning_rate=0.1, max_delta_step=0, max_depth=3,\n",
       "              min_child_weight=1, missing=None, n_estimators=100, n_jobs=1,\n",
       "              nthread=None, objective='binary:logistic', random_state=0,\n",
       "              reg_alpha=0, reg_lambda=1, scale_pos_weight=1, seed=None,\n",
       "              silent=None, subsample=1, verbosity=1)"
      ]
     },
     "execution_count": 16,
     "metadata": {},
     "output_type": "execute_result"
    }
   ],
   "source": [
    "my_model = XGBClassifier()\n",
    "my_model.fit(train_x, train_y, verbose=False)"
   ]
  },
  {
   "cell_type": "markdown",
   "metadata": {},
   "source": [
    "**TEST**"
   ]
  },
  {
   "cell_type": "code",
   "execution_count": 17,
   "metadata": {},
   "outputs": [],
   "source": [
    "# XGBoost\n",
    "predictions = my_model.predict(test_x)"
   ]
  },
  {
   "cell_type": "code",
   "execution_count": 18,
   "metadata": {},
   "outputs": [],
   "source": [
    "# Keras NN\n",
    "\n",
    "#predictions = model.predict(test_x)\n",
    "#predictions = (predictions > 0.5).astype('int8')\n",
    "#print(predictions[:7])"
   ]
  },
  {
   "cell_type": "code",
   "execution_count": 19,
   "metadata": {},
   "outputs": [
    {
     "name": "stdout",
     "output_type": "stream",
     "text": [
      "   PassengerId  Survived\n",
      "0          892         0\n",
      "1          893         0\n",
      "2          894         0\n",
      "3          895         0\n",
      "4          896         0\n",
      "5          897         0\n",
      "6          898         1\n",
      "7          899         0\n",
      "8          900         1\n",
      "9          901         0\n",
      " 139 people survived out of a total of 891 being the 15.600448933782268 % of the dataset\n"
     ]
    }
   ],
   "source": [
    "df_final = pd.read_csv('../input/titanic/'+files[1])\n",
    "df_final['Survived'] = predictions.astype('int8')\n",
    "print(df_final.head(10))\n",
    "\n",
    "ones = list(df_final[df_final['Survived'] == 1]['PassengerId'])\n",
    "print('', len(ones),'people survived out of a total of', df.shape[0], 'being the', len(ones)/df.shape[0]*100,'% of the dataset')"
   ]
  },
  {
   "cell_type": "markdown",
   "metadata": {},
   "source": [
    "**GRAFICOS**"
   ]
  },
  {
   "cell_type": "code",
   "execution_count": 20,
   "metadata": {},
   "outputs": [
    {
     "data": {
      "image/png": "[encoded data removed]",
      "text/plain": [
       "<Figure size 432x648 with 6 Axes>"
      ]
     },
     "metadata": {
      "needs_background": "light"
     },
     "output_type": "display_data"
    },
    {
     "data": {
      "image/png": "[encoded data removed]",
      "text/plain": [
       "<Figure size 411.875x360 with 1 Axes>"
      ]
     },
     "metadata": {
      "needs_background": "light"
     },
     "output_type": "display_data"
    },
    {
     "data": {
      "image/png": "[encoded data removed]",
      "text/plain": [
       "<Figure size 411.875x360 with 1 Axes>"
      ]
     },
     "metadata": {
      "needs_background": "light"
     },
     "output_type": "display_data"
    },
    {
     "data": {
      "image/png": "[encoded data removed]",
      "text/plain": [
       "<Figure size 411.875x360 with 1 Axes>"
      ]
     },
     "metadata": {
      "needs_background": "light"
     },
     "output_type": "display_data"
    },
    {
     "data": {
      "image/png": "[encoded data removed]",
      "text/plain": [
       "<Figure size 432x432 with 4 Axes>"
      ]
     },
     "metadata": {
      "needs_background": "light"
     },
     "output_type": "display_data"
    }
   ],
   "source": [
    "sns.FacetGrid(df_train, col='Survived',row='Pclass').map(sns.distplot,'Fare')\n",
    "\"\"\"\n",
    "sns.catplot(\"Family_Numerous\", data=df_train, aspect=2.0, kind='count',\n",
    "                       hue='Survived')\n",
    "\"\"\"\n",
    "sns.catplot(\"Pclass\", data=df_train, aspect=1.0, kind='count',\n",
    "                       hue='Survived')\n",
    "\n",
    "sns.catplot(\"Sex\", data=df_train, aspect=1.0, kind='count',\n",
    "                       hue='Survived')\n",
    "\n",
    "sns.catplot(\"Embarked\", data=df_train, aspect=1.0, kind='count',\n",
    "                       hue='Survived')\n",
    "\n",
    "sns.FacetGrid(df_train, col='Survived',row='Sex').map(sns.distplot,'Age')\n",
    "\n",
    "df_surv_male = []\n"
   ]
  },
  {
   "cell_type": "markdown",
   "metadata": {},
   "source": [
    "**SAVING THE SUBMISSION TO CSV**"
   ]
  },
  {
   "cell_type": "code",
   "execution_count": 21,
   "metadata": {},
   "outputs": [],
   "source": [
    "df_final.to_csv('submission.csv', index=False)"
   ]
  }
 ],
 "metadata": {
  "kernelspec": {
   "display_name": "Python 3",
   "language": "python",
   "name": "python3"
  },
  "language_info": {
   "codemirror_mode": {
    "name": "ipython",
    "version": 3
   },
   "file_extension": ".py",
   "mimetype": "text/x-python",
   "name": "python",
   "nbconvert_exporter": "python",
   "pygments_lexer": "ipython3",
   "version": "3.6.8"
  }
 },
 "nbformat": 4,
 "nbformat_minor": 1
}
